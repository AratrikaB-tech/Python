{
 "cells": [
  {
   "cell_type": "code",
   "execution_count": 1,
   "id": "eba526b9-e596-4778-bbf4-dbeec848ff2b",
   "metadata": {},
   "outputs": [
    {
     "name": "stdout",
     "output_type": "stream",
     "text": [
      "=== Simple Calculator ===\n",
      "Choose operation:\n",
      "1. Add (+)\n",
      "2. Subtract (-)\n",
      "3. Multiply (*)\n",
      "4. Divide (/)\n"
     ]
    },
    {
     "name": "stdin",
     "output_type": "stream",
     "text": [
      "Enter your choice (+, -, *, /):  -\n",
      "Enter first number:  34\n",
      "Enter second number:  67\n"
     ]
    },
    {
     "name": "stdout",
     "output_type": "stream",
     "text": [
      "Result: -33.0\n"
     ]
    }
   ],
   "source": [
    "def add(x, y):\n",
    "    return x + y\n",
    "\n",
    "def subtract(x, y):\n",
    "    return x - y\n",
    "\n",
    "def multiply(x, y):\n",
    "    return x * y\n",
    "\n",
    "def divide(x, y):\n",
    "    if y == 0:\n",
    "        return \"Error: Division by zero\"\n",
    "    return x / y\n",
    "\n",
    "print(\"=== Simple Calculator ===\")\n",
    "print(\"Choose operation:\")\n",
    "print(\"1. Add (+)\")\n",
    "print(\"2. Subtract (-)\")\n",
    "print(\"3. Multiply (*)\")\n",
    "print(\"4. Divide (/)\")\n",
    "\n",
    "op = input(\"Enter your choice (+, -, *, /): \")\n",
    "a = float(input(\"Enter first number: \"))\n",
    "b = float(input(\"Enter second number: \"))\n",
    "\n",
    "if op == '+':\n",
    "    result = add(a, b)\n",
    "elif op == '-':\n",
    "    result = subtract(a, b)\n",
    "elif op == '*':\n",
    "    result = multiply(a, b)\n",
    "elif op == '/':\n",
    "    result = divide(a, b)\n",
    "else:\n",
    "    result = \"Invalid operator\"\n",
    "\n",
    "print(\"Result:\", result)\n"
   ]
  },
  {
   "cell_type": "code",
   "execution_count": null,
   "id": "9d0b4474-0514-4f24-a29c-a2b2b95f0741",
   "metadata": {},
   "outputs": [],
   "source": []
  }
 ],
 "metadata": {
  "kernelspec": {
   "display_name": "Python 3 (ipykernel)",
   "language": "python",
   "name": "python3"
  },
  "language_info": {
   "codemirror_mode": {
    "name": "ipython",
    "version": 3
   },
   "file_extension": ".py",
   "mimetype": "text/x-python",
   "name": "python",
   "nbconvert_exporter": "python",
   "pygments_lexer": "ipython3",
   "version": "3.12.6"
  }
 },
 "nbformat": 4,
 "nbformat_minor": 5
}
